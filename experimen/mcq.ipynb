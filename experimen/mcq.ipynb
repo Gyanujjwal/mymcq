{
 "cells": [
  {
   "cell_type": "code",
   "execution_count": null,
   "id": "541cf32c",
   "metadata": {},
   "outputs": [],
   "source": []
  }
 ],
 "metadata": {
  "kernelspec": {
   "display_name": "Python 3",
   "language": "python",
   "name": "python3"
  },
  "language_info": {
   "name": "python",
   "version": "3.8.20"
  }
 },
 "nbformat": 4,
 "nbformat_minor": 5
}
